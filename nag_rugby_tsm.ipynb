{
 "cells": [
  {
   "cell_type": "code",
   "execution_count": 2,
   "metadata": {
    "collapsed": true
   },
   "outputs": [],
   "source": [
    "import pandas as pn\n",
    "import numpy as np\n",
    "import nag4py.g05 as g05\n",
    "import nag4py.h03 as h03\n",
    "import nag4py.util as util\n",
    "import nag4py.x04 as x04"
   ]
  },
  {
   "cell_type": "code",
   "execution_count": 3,
   "metadata": {
    "collapsed": true
   },
   "outputs": [],
   "source": [
    "waypoint_data = pn.read_csv(\"my-rugby-bike-waypoints-dist-dur.tsv\", sep=\"\\t\")"
   ]
  },
  {
   "cell_type": "code",
   "execution_count": 4,
   "metadata": {
    "collapsed": true
   },
   "outputs": [],
   "source": [
    "all_waypoints = [\"brighton community stadium, UK\", \n",
    "                   \"Elland Road, UK\",\n",
    "                   \"Kingsholm Stadium, Kingsholm Road, Gloucester\",\n",
    "                  \"King Power Stadium, Filbert Way, Leicester\",\n",
    "                  \"City of Manchester Stadium, Ashton New Road, Manchester\",\n",
    "                  \"Millennium Stadium, Westgate Street, Cardiff\",\n",
    "                  \"The Stadium, Queen Elizabeth Olympic Park\",\n",
    "                  \"Sandy Park Stadium, Exeter\",\n",
    "                  \"St. James' Park, Barrack Road, Newcastle upon Tyne\",\n",
    "                  \"Stadium MK, Grafton Street, Bletchley\",\n",
    "                  \"Twickenham Stadium, Whitton Road, Twickenham\",\n",
    "                  \"Villa Park, Trinity Road, Birmingham\",\n",
    "                  \"Wembley Stadium, Wembley\"]"
   ]
  },
  {
   "cell_type": "code",
   "execution_count": 5,
   "metadata": {
    "collapsed": true
   },
   "outputs": [],
   "source": [
    "distance_matrix = np.zeros((len(all_waypoints),len(all_waypoints)))\n",
    "duration_matrix = np.zeros((len(all_waypoints),len(all_waypoints)))"
   ]
  },
  {
   "cell_type": "code",
   "execution_count": 6,
   "metadata": {
    "collapsed": true
   },
   "outputs": [],
   "source": [
    "for index, row in waypoint_data.iterrows():\n",
    "    distance_matrix[all_waypoints.index(row['waypoint1'])][all_waypoints.index(row['waypoint2'])] = row['distance_m']\n",
    "    distance_matrix[all_waypoints.index(row['waypoint2'])][all_waypoints.index(row['waypoint1'])] = row['distance_m']\n",
    "    duration_matrix[all_waypoints.index(row['waypoint1'])][all_waypoints.index(row['waypoint2'])] = row['duration_s']\n",
    "    duration_matrix[all_waypoints.index(row['waypoint2'])][all_waypoints.index(row['waypoint1'])] = row['duration_s']"
   ]
  },
  {
   "cell_type": "code",
   "execution_count": 7,
   "metadata": {
    "collapsed": true
   },
   "outputs": [],
   "source": [
    "genid = 2151\n",
    "subid = 53\n",
    "seed = np.array([304950, 889934, 209094, 23423990], dtype=np.int32)\n",
    "lseed = 4\n",
    "state = np.zeros(21, dtype=np.int32)\n",
    "lstate = np.array([21], dtype=np.int32)\n",
    "fail = util.noisy_fail()\n",
    "g05.nag_rand_init_repeatable(genid, subid, seed, lseed, state, lstate, fail)\n",
    "if fail.code != 0:\n",
    "    print(fail.message)"
   ]
  },
  {
   "cell_type": "code",
   "execution_count": null,
   "metadata": {
    "collapsed": true
   },
   "outputs": [],
   "source": []
  }
 ],
 "metadata": {
  "kernelspec": {
   "display_name": "Python 2",
   "language": "python",
   "name": "python2"
  },
  "language_info": {
   "codemirror_mode": {
    "name": "ipython",
    "version": 2
   },
   "file_extension": ".py",
   "mimetype": "text/x-python",
   "name": "python",
   "nbconvert_exporter": "python",
   "pygments_lexer": "ipython2",
   "version": "2.7.10"
  }
 },
 "nbformat": 4,
 "nbformat_minor": 0
}
